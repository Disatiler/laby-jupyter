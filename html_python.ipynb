{
 "cells": [
  {
   "cell_type": "code",
   "execution_count": 1,
   "metadata": {},
   "outputs": [],
   "source": [
    "from ipywidgets import HTML"
   ]
  },
  {
   "cell_type": "code",
   "execution_count": 2,
   "metadata": {},
   "outputs": [
    {
     "data": {
      "application/vnd.jupyter.widget-view+json": {
       "model_id": "776082807085449e95a8bb91d1460fe2",
       "version_major": 2,
       "version_minor": 0
      },
      "text/plain": [
       "HTML(value='\\n<style>\\n.stack\\n{\\nposition: absolute;\\ntop: 0px;\\nleft: 0px;\\n}\\n</style>\\n\\n<div style=\"posit…"
      ]
     },
     "metadata": {},
     "output_type": "display_data"
    }
   ],
   "source": [
    "HTML(\"\"\"\n",
    "<style>\n",
    ".stack\n",
    "{\n",
    "position: absolute;\n",
    "top: 0px;\n",
    "left: 0px;\n",
    "}\n",
    "</style>\n",
    "\n",
    "<div style=\"position: relative; left: 0px; top: 0px; \">\n",
    "<?xml version=\"1.0\" encoding=\"UTF-8\" standalone=\"no\"?>\n",
    "<!-- Created with Inkscape (http://www.inkscape.org/) -->\n",
    "<svg id=\"svg2\" xmlns=\"http://www.w3.org/2000/svg\" height=\"32\" width=\"32\" version=\"1.0\">\n",
    " <g id=\"layer1\" stroke-width=\"1px\" stroke-linejoin=\"miter\" transform=\"translate(6.339286,5.089286)\" stroke=\"#000\" stroke-linecap=\"butt\" fill=\"none\">\n",
    "  <path id=\"path1\" d=\"M18.031,9.9375l-4.969,0.3745-1.593,7.126,2.562,4.406,5.625,0.031,2.125-6.687-0.562-3.876-3.188-1.3745z\" transform=\"matrix(0.950389,0.311063,-0.311063,0.950389,-3.155943,-11.70373)\"/>\n",
    "  <path id=\"path2\" d=\"M6.3119,2.4244l1.1924,6.4029,1.1339,6.0077\"/>\n",
    "  <path id=\"path3\" d=\"M3.7443,13.139l3.6459-4.537,5.6608-2.6566\"/>\n",
    "  <path id=\"path4\" d=\"M10.723,3.5863l-3.3066,4.6485\"/>\n",
    "  <path id=\"path5\" d=\"M12.506,9.6189l-4.9461-0.9613\"/>\n",
    "  <path id=\"path6\" d=\"M2.5333,8.5155l5.025-0.1403\"/>\n",
    " </g>\n",
    "</svg>\n",
    "</div>\n",
    "<div style=\"position: relative; left: 0px; top: 0px; \">\n",
    "<svg id=\"svg2\" xmlns=\"http://www.w3.org/2000/svg\" height=\"32\" width=\"32\" version=\"1.0\">\n",
    " <g id=\"layer1\" stroke=\"#000\" stroke-width=\"1px\" stroke-linejoin=\"bevel\" stroke-linecap=\"butt\" fill=\"none\" transform=\"matrix(0,-1,1,0,0,32)\">\n",
    "  <path id=\"path1\" d=\"M27.054,13.741c0,3.329-2.458,6.028-5.492,6.028-3.033,0-5.491-2.699-5.491-6.028s2.458-6.0283,5.491-6.0283c3.034,0,5.492,2.6993,5.492,6.0283z\" transform=\"translate(-11.78571,2.589285)\" fill=\"#808080\"/>\n",
    "  <path id=\"path2\" d=\"M24.018,6.6429l-3.75,2.6785-1.697,3.9286\"/>\n",
    "  <path id=\"path3\" d=\"M32.054,16.509c0,2.046-1.679,3.705-3.75,3.705s-3.75-1.659-3.75-3.705,1.679-3.705,3.75-3.705,3.75,1.659,3.75,3.705z\" transform=\"translate(-11.78571,-0.178571)\" fill=\"#808080\"/>\n",
    "  <path id=\"path4\" d=\"M28.661,17c0,2.318-1.799,4.197-4.018,4.197s-4.018-1.879-4.018-4.197,1.799-4.197,4.018-4.197,4.018,1.879,4.018,4.197z\" transform=\"translate(-1.428571,-0.803571)\" fill=\"#808080\"/>\n",
    "  <path id=\"path5\" d=\"M4.2857,1.9107l5.9823,5.7143,0.446,2.589\"/>\n",
    "  <path id=\"path6\" d=\"M18.393,5.5714l-2.589,2.4107-0.715,4.5539\"/>\n",
    "  <path id=\"path7\" d=\"M10.625,22.179l-0.268,3.214-6.5177,4.018\"/>\n",
    "  <path id=\"path8\" d=\"M14.286,19.768v4.821l2.678,3.393\"/>\n",
    "  <path id=\"path9\" d=\"M18.036,20.125l1.25,5.446,3.303,1.608\"/>\n",
    "  <path id=\"path10\" d=\"M24.464,13.964l2.232-2.232\"/>\n",
    "  <path id=\"path11\" d=\"M24.732,18.429l1.964,2.232\"/>\n",
    "  <path id=\"path12\" stroke-linejoin=\"miter\" d=\"M27.143,15.661l1.696,0.178\"/>\n",
    "  <path id=\"path13\" stroke-linejoin=\"miter\" d=\"M28.571,16.821l-1.25,0.358\"/>\n",
    " </g>\n",
    "</svg>\n",
    "</div>\n",
    "<?xml version=\"1.0\" encoding=\"UTF-8\" standalone=\"no\"?>\n",
    "<!-- Created with Inkscape (http://www.inkscape.org/) -->\n",
    "<svg id=\"svg2\" xmlns=\"http://www.w3.org/2000/svg\"  height=\"32\" width=\"32\" version=\"1.0\">\n",
    " <g id=\"layer1\" stroke-linejoin=\"miter\" fill-rule=\"evenodd\" stroke=\"#000\" stroke-linecap=\"butt\" stroke-width=\"1px\" fill=\"#5c4f4b\">\n",
    "  <path id=\"path1\" d=\"M6.5179,14.5l4.7321,0.357-5.0893,5.536,8.8393,4.196,7.679-3.75,2.053-4.464-1.25-5.536-7.232-0.357-5.089-1.9641-4.6431,5.9821z\"/>\n",
    "  <path id=\"path2\" d=\"M10.804,12.268l-4.1076,5.536,8.4826,4.285,7.41-5-1.16-8.4819-5-1.25-5.625,4.9109z\"/>\n",
    "  <path id=\"path3\" d=\"M13.036,15.75l6.964-1.429-1.786-2.142-3.75-0.268-1.428,3.839z\"/>\n",
    " </g>\n",
    "</svg>\n",
    "\n",
    "\"\"\")"
   ]
  },
  {
   "cell_type": "code",
   "execution_count": 7,
   "metadata": {},
   "outputs": [
    {
     "data": {
      "application/vnd.jupyter.widget-view+json": {
       "model_id": "3992de822fde47399f1e23bb8852dde3",
       "version_major": 2,
       "version_minor": 0
      },
      "text/plain": [
       "HTML(value='\\n<style>\\n.stack\\n{\\nposition: absolute;\\ntop: 0px;\\nleft: 0px;\\n}\\n</style>\\n\\n<div style=\"posit…"
      ]
     },
     "metadata": {},
     "output_type": "display_data"
    }
   ],
   "source": [
    "HTML(\"\"\"\n",
    "<style>\n",
    ".stack\n",
    "{\n",
    "position: absolute;\n",
    "top: 0px;\n",
    "left: 0px;\n",
    "}\n",
    "</style>\n",
    "\n",
    "<div style=\"position: relative; left: 0px; top: 0px; \">\n",
    "<?xml version=\"1.0\" encoding=\"UTF-8\" standalone=\"no\"?>\n",
    "<!-- Created with Inkscape (http://www.inkscape.org/) -->\n",
    "<svg id=\"svg2\" class=\"stack\" xmlns=\"http://www.w3.org/2000/svg\" height=\"32\" width=\"32\" version=\"1.0\">\n",
    " <g id=\"layer1\" stroke=\"#000\" stroke-width=\"1px\" stroke-linejoin=\"bevel\" stroke-linecap=\"butt\" fill=\"none\" transform=\"matrix(0,-1,1,0,0,32)\">\n",
    "  <path id=\"path1\" d=\"M27.054,13.741c0,3.329-2.458,6.028-5.492,6.028-3.033,0-5.491-2.699-5.491-6.028s2.458-6.0283,5.491-6.0283c3.034,0,5.492,2.6993,5.492,6.0283z\" transform=\"translate(-11.78571,2.589285)\" fill=\"#808080\"/>\n",
    "  <path id=\"path2\" d=\"M24.018,6.6429l-3.75,2.6785-1.697,3.9286\"/>\n",
    "  <path id=\"path3\" d=\"M32.054,16.509c0,2.046-1.679,3.705-3.75,3.705s-3.75-1.659-3.75-3.705,1.679-3.705,3.75-3.705,3.75,1.659,3.75,3.705z\" transform=\"translate(-11.78571,-0.178571)\" fill=\"#808080\"/>\n",
    "  <path id=\"path4\" d=\"M28.661,17c0,2.318-1.799,4.197-4.018,4.197s-4.018-1.879-4.018-4.197,1.799-4.197,4.018-4.197,4.018,1.879,4.018,4.197z\" transform=\"translate(-1.428571,-0.803571)\" fill=\"#808080\"/>\n",
    "  <path id=\"path5\" d=\"M4.2857,1.9107l5.9823,5.7143,0.446,2.589\"/>\n",
    "  <path id=\"path6\" d=\"M18.393,5.5714l-2.589,2.4107-0.715,4.5539\"/>\n",
    "  <path id=\"path7\" d=\"M10.625,22.179l-0.268,3.214-6.5177,4.018\"/>\n",
    "  <path id=\"path8\" d=\"M14.286,19.768v4.821l2.678,3.393\"/>\n",
    "  <path id=\"path9\" d=\"M18.036,20.125l1.25,5.446,3.303,1.608\"/>\n",
    "  <path id=\"path10\" d=\"M24.464,13.964l2.232-2.232\"/>\n",
    "  <path id=\"path11\" d=\"M24.732,18.429l1.964,2.232\"/>\n",
    "  <path id=\"path12\" stroke-linejoin=\"miter\" d=\"M27.143,15.661l1.696,0.178\"/>\n",
    "  <path id=\"path13\" stroke-linejoin=\"miter\" d=\"M28.571,16.821l-1.25,0.358\"/>\n",
    " </g>\n",
    "</svg>\n",
    "</div>\n",
    "<div style=\"position: relative; left: 0px; top: 0px; \">\n",
    "<?xml version=\"1.0\" encoding=\"UTF-8\" standalone=\"no\"?>\n",
    "<!-- Created with Inkscape (http://www.inkscape.org/) -->\n",
    "<svg class=\"stack\" id=\"svg2\" xmlns=\"http://www.w3.org/2000/svg\" height=\"32\" width=\"32\" version=\"1.0\">\n",
    " <g id=\"layer1\" stroke-width=\"1px\" stroke-linejoin=\"miter\" transform=\"translate(6.339286,5.089286)\" stroke=\"#000\" stroke-linecap=\"butt\" fill=\"none\">\n",
    "  <path id=\"path1\" d=\"M18.031,9.9375l-4.969,0.3745-1.593,7.126,2.562,4.406,5.625,0.031,2.125-6.687-0.562-3.876-3.188-1.3745z\" transform=\"matrix(0.950389,0.311063,-0.311063,0.950389,-3.155943,-11.70373)\"/>\n",
    "  <path id=\"path2\" d=\"M6.3119,2.4244l1.1924,6.4029,1.1339,6.0077\"/>\n",
    "  <path id=\"path3\" d=\"M3.7443,13.139l3.6459-4.537,5.6608-2.6566\"/>\n",
    "  <path id=\"path4\" d=\"M10.723,3.5863l-3.3066,4.6485\"/>\n",
    "  <path id=\"path5\" d=\"M12.506,9.6189l-4.9461-0.9613\"/>\n",
    "  <path id=\"path6\" d=\"M2.5333,8.5155l5.025-0.1403\"/>\n",
    " </g>\n",
    "</svg>\n",
    "</div>\n",
    "<div>\n",
    "<?xml version=\"1.0\" encoding=\"UTF-8\" standalone=\"no\"?>\n",
    "<!-- Created with Inkscape (http://www.inkscape.org/) -->\n",
    "<svg id=\"svg2\" xmlns=\"http://www.w3.org/2000/svg\"  height=\"32\" width=\"32\" version=\"1.0\">\n",
    " <g id=\"layer1\" stroke-linejoin=\"miter\" fill-rule=\"evenodd\" stroke=\"#000\" stroke-linecap=\"butt\" stroke-width=\"1px\" fill=\"#5c4f4b\">\n",
    "  <path id=\"path1\" d=\"M6.5179,14.5l4.7321,0.357-5.0893,5.536,8.8393,4.196,7.679-3.75,2.053-4.464-1.25-5.536-7.232-0.357-5.089-1.9641-4.6431,5.9821z\"/>\n",
    "  <path id=\"path2\" d=\"M10.804,12.268l-4.1076,5.536,8.4826,4.285,7.41-5-1.16-8.4819-5-1.25-5.625,4.9109z\"/>\n",
    "  <path id=\"path3\" d=\"M13.036,15.75l6.964-1.429-1.786-2.142-3.75-0.268-1.428,3.839z\"/>\n",
    " </g>\n",
    "</svg>\n",
    "</div>\n",
    "\"\"\")"
   ]
  },
  {
   "cell_type": "code",
   "execution_count": 6,
   "metadata": {},
   "outputs": [
    {
     "data": {
      "application/vnd.jupyter.widget-view+json": {
       "model_id": "9903ba81a8d14778971a438775bf3e33",
       "version_major": 2,
       "version_minor": 0
      },
      "text/plain": [
       "HTML(value='\\n<style>\\n.stack\\n{\\nposition: absolute;\\ntop: 0px;\\nleft: 0px;\\n}\\n</style>\\n\\n<div style=\"posit…"
      ]
     },
     "metadata": {},
     "output_type": "display_data"
    }
   ],
   "source": [
    "HTML(\"\"\"\n",
    "<style>\n",
    ".stack\n",
    "{\n",
    "position: absolute;\n",
    "top: 0px;\n",
    "left: 0px;\n",
    "}\n",
    "</style>\n",
    "\n",
    "<div style=\"position: relative; left: 0px; top: 0px; \">\n",
    "<?xml version=\"1.0\" encoding=\"UTF-8\" standalone=\"no\"?>\n",
    "<!-- Created with Inkscape (http://www.inkscape.org/) -->\n",
    "<svg class=\"stack\" id=\"svg2\" xmlns=\"http://www.w3.org/2000/svg\" height=\"32\" width=\"32\" version=\"1.0\">\n",
    " <g id=\"layer1\" stroke-width=\"1px\" stroke-linejoin=\"miter\" transform=\"translate(6.339286,5.089286)\" stroke=\"#000\" stroke-linecap=\"butt\" fill=\"none\">\n",
    "  <path id=\"path1\" d=\"M18.031,9.9375l-4.969,0.3745-1.593,7.126,2.562,4.406,5.625,0.031,2.125-6.687-0.562-3.876-3.188-1.3745z\" transform=\"matrix(0.950389,0.311063,-0.311063,0.950389,-3.155943,-11.70373)\"/>\n",
    "  <path id=\"path2\" d=\"M6.3119,2.4244l1.1924,6.4029,1.1339,6.0077\"/>\n",
    "  <path id=\"path3\" d=\"M3.7443,13.139l3.6459-4.537,5.6608-2.6566\"/>\n",
    "  <path id=\"path4\" d=\"M10.723,3.5863l-3.3066,4.6485\"/>\n",
    "  <path id=\"path5\" d=\"M12.506,9.6189l-4.9461-0.9613\"/>\n",
    "  <path id=\"path6\" d=\"M2.5333,8.5155l5.025-0.1403\"/>\n",
    " </g>\n",
    "</svg>\n",
    "</div>\n",
    "<div>\n",
    "<div style=\"position: relative; left: 0px; top: 0px; \">\n",
    "<?xml version=\"1.0\" encoding=\"UTF-8\" standalone=\"no\"?>\n",
    "<!-- Created with Inkscape (http://www.inkscape.org/) -->\n",
    "<svg id=\"svg2\" class=\"stack\" xmlns=\"http://www.w3.org/2000/svg\" height=\"32\" width=\"32\" version=\"1.0\">\n",
    " <g id=\"layer1\" stroke=\"#000\" stroke-width=\"1px\" stroke-linejoin=\"bevel\" stroke-linecap=\"butt\" fill=\"none\" transform=\"matrix(0,-1,1,0,0,32)\">\n",
    "  <path id=\"path1\" d=\"M27.054,13.741c0,3.329-2.458,6.028-5.492,6.028-3.033,0-5.491-2.699-5.491-6.028s2.458-6.0283,5.491-6.0283c3.034,0,5.492,2.6993,5.492,6.0283z\" transform=\"translate(-11.78571,2.589285)\" fill=\"#808080\"/>\n",
    "  <path id=\"path2\" d=\"M24.018,6.6429l-3.75,2.6785-1.697,3.9286\"/>\n",
    "  <path id=\"path3\" d=\"M32.054,16.509c0,2.046-1.679,3.705-3.75,3.705s-3.75-1.659-3.75-3.705,1.679-3.705,3.75-3.705,3.75,1.659,3.75,3.705z\" transform=\"translate(-11.78571,-0.178571)\" fill=\"#808080\"/>\n",
    "  <path id=\"path4\" d=\"M28.661,17c0,2.318-1.799,4.197-4.018,4.197s-4.018-1.879-4.018-4.197,1.799-4.197,4.018-4.197,4.018,1.879,4.018,4.197z\" transform=\"translate(-1.428571,-0.803571)\" fill=\"#808080\"/>\n",
    "  <path id=\"path5\" d=\"M4.2857,1.9107l5.9823,5.7143,0.446,2.589\"/>\n",
    "  <path id=\"path6\" d=\"M18.393,5.5714l-2.589,2.4107-0.715,4.5539\"/>\n",
    "  <path id=\"path7\" d=\"M10.625,22.179l-0.268,3.214-6.5177,4.018\"/>\n",
    "  <path id=\"path8\" d=\"M14.286,19.768v4.821l2.678,3.393\"/>\n",
    "  <path id=\"path9\" d=\"M18.036,20.125l1.25,5.446,3.303,1.608\"/>\n",
    "  <path id=\"path10\" d=\"M24.464,13.964l2.232-2.232\"/>\n",
    "  <path id=\"path11\" d=\"M24.732,18.429l1.964,2.232\"/>\n",
    "  <path id=\"path12\" stroke-linejoin=\"miter\" d=\"M27.143,15.661l1.696,0.178\"/>\n",
    "  <path id=\"path13\" stroke-linejoin=\"miter\" d=\"M28.571,16.821l-1.25,0.358\"/>\n",
    " </g>\n",
    "</svg>\n",
    "<?xml version=\"1.0\" encoding=\"UTF-8\" standalone=\"no\"?>\n",
    "<!-- Created with Inkscape (http://www.inkscape.org/) -->\n",
    "<svg id=\"svg2\" xmlns=\"http://www.w3.org/2000/svg\"  height=\"32\" width=\"32\" version=\"1.0\">\n",
    " <g id=\"layer1\" stroke-linejoin=\"miter\" fill-rule=\"evenodd\" stroke=\"#000\" stroke-linecap=\"butt\" stroke-width=\"1px\" fill=\"#5c4f4b\">\n",
    "  <path id=\"path1\" d=\"M6.5179,14.5l4.7321,0.357-5.0893,5.536,8.8393,4.196,7.679-3.75,2.053-4.464-1.25-5.536-7.232-0.357-5.089-1.9641-4.6431,5.9821z\"/>\n",
    "  <path id=\"path2\" d=\"M10.804,12.268l-4.1076,5.536,8.4826,4.285,7.41-5-1.16-8.4819-5-1.25-5.625,4.9109z\"/>\n",
    "  <path id=\"path3\" d=\"M13.036,15.75l6.964-1.429-1.786-2.142-3.75-0.268-1.428,3.839z\"/>\n",
    " </g>\n",
    "</svg>\n",
    "\"\"\")"
   ]
  },
  {
   "cell_type": "code",
   "execution_count": 20,
   "metadata": {
    "scrolled": true
   },
   "outputs": [
    {
     "data": {
      "application/vnd.jupyter.widget-view+json": {
       "model_id": "ea15d9ecda7c4f1b89f6e4c71193fb05",
       "version_major": 2,
       "version_minor": 0
      },
      "text/plain": [
       "HTML(value='\\n<style>\\n.stack\\n{\\nposition: absolute;\\ntop: 0px;\\nleft: 0px;\\n}\\n</style>\\n\\n<div style=\"posit…"
      ]
     },
     "metadata": {},
     "output_type": "display_data"
    }
   ],
   "source": [
    "HTML(\"\"\"\n",
    "<style>\n",
    ".stack\n",
    "{\n",
    "position: absolute;\n",
    "top: 0px;\n",
    "left: 0px;\n",
    "}\n",
    "</style>\n",
    "\n",
    "<div style=\"position: relative; left: 0px; top: 0px; \">\n",
    "<?xml version=\"1.0\" encoding=\"UTF-8\" standalone=\"no\"?>\n",
    "<!-- Created with Inkscape (http://www.inkscape.org/) -->\n",
    "<svg id=\"svg2\" class=\"stack\" xmlns=\"http://www.w3.org/2000/svg\" height=\"32\" width=\"32\" version=\"1.0\">\n",
    " <g id=\"layer1\" stroke-width=\"1px\" stroke-linejoin=\"miter\" transform=\"translate(6.339286,5.089286)\" stroke=\"#000\" stroke-linecap=\"butt\" fill=\"none\">\n",
    "  <path id=\"path1\" d=\"M18.031,9.9375l-4.969,0.3745-1.593,7.126,2.562,4.406,5.625,0.031,2.125-6.687-0.562-3.876-3.188-1.3745z\" transform=\"matrix(0.950389,0.311063,-0.311063,0.950389,-3.155943,-11.70373)\"/>\n",
    "  <path id=\"path2\" d=\"M6.3119,2.4244l1.1924,6.4029,1.1339,6.0077\"/>\n",
    "  <path id=\"path3\" d=\"M3.7443,13.139l3.6459-4.537,5.6608-2.6566\"/>\n",
    "  <path id=\"path4\" d=\"M10.723,3.5863l-3.3066,4.6485\"/>\n",
    "  <path id=\"path5\" d=\"M12.506,9.6189l-4.9461-0.9613\"/>\n",
    "  <path id=\"path6\" d=\"M2.5333,8.5155l5.025-0.1403\"/>\n",
    " </g>\n",
    "</svg>\n",
    "</div>\n",
    "<div>\n",
    "<?xml version=\"1.0\" encoding=\"UTF-8\" standalone=\"no\"?>\n",
    "<!-- Created with Inkscape (http://www.inkscape.org/) -->\n",
    "<svg id=\"svg2\" class=\"stack\" xmlns=\"http://www.w3.org/2000/svg\"  height=\"32\" width=\"32\" version=\"1.0\">\n",
    " <g id=\"layer1\" stroke-linejoin=\"miter\" fill-rule=\"evenodd\" stroke=\"#000\" stroke-linecap=\"butt\" stroke-width=\"1px\" fill=\"#5c4f4b\">\n",
    "  <path id=\"path1\" d=\"M6.5179,14.5l4.7321,0.357-5.0893,5.536,8.8393,4.196,7.679-3.75,2.053-4.464-1.25-5.536-7.232-0.357-5.089-1.9641-4.6431,5.9821z\"/>\n",
    "  <path id=\"path2\" d=\"M10.804,12.268l-4.1076,5.536,8.4826,4.285,7.41-5-1.16-8.4819-5-1.25-5.625,4.9109z\"/>\n",
    "  <path id=\"path3\" d=\"M13.036,15.75l6.964-1.429-1.786-2.142-3.75-0.268-1.428,3.839z\"/>\n",
    " </g>\n",
    "</svg>\n",
    "</div>\n",
    "<?xml version=\"1.0\" encoding=\"UTF-8\" standalone=\"no\"?>\n",
    "<!-- Created with Inkscape (http://www.inkscape.org/) -->\n",
    "<svg id=\"svg2\" xmlns=\"http://www.w3.org/2000/svg\" height=\"32\" width=\"32\" version=\"1.0\">\n",
    " <g id=\"layer1\" stroke=\"#000\" stroke-width=\"1px\" stroke-linejoin=\"bevel\" stroke-linecap=\"butt\" fill=\"none\" transform=\"matrix(0,-1,1,0,0,32)\">\n",
    "  <path id=\"path1\" d=\"M27.054,13.741c0,3.329-2.458,6.028-5.492,6.028-3.033,0-5.491-2.699-5.491-6.028s2.458-6.0283,5.491-6.0283c3.034,0,5.492,2.6993,5.492,6.0283z\" transform=\"translate(-11.78571,2.589285)\" fill=\"#808080\"/>\n",
    "  <path id=\"path2\" d=\"M24.018,6.6429l-3.75,2.6785-1.697,3.9286\"/>\n",
    "  <path id=\"path3\" d=\"M32.054,16.509c0,2.046-1.679,3.705-3.75,3.705s-3.75-1.659-3.75-3.705,1.679-3.705,3.75-3.705,3.75,1.659,3.75,3.705z\" transform=\"translate(-11.78571,-0.178571)\" fill=\"#808080\"/>\n",
    "  <path id=\"path4\" d=\"M28.661,17c0,2.318-1.799,4.197-4.018,4.197s-4.018-1.879-4.018-4.197,1.799-4.197,4.018-4.197,4.018,1.879,4.018,4.197z\" transform=\"translate(-1.428571,-0.803571)\" fill=\"#808080\"/>\n",
    "  <path id=\"path5\" d=\"M4.2857,1.9107l5.9823,5.7143,0.446,2.589\"/>\n",
    "  <path id=\"path6\" d=\"M18.393,5.5714l-2.589,2.4107-0.715,4.5539\"/>\n",
    "  <path id=\"path7\" d=\"M10.625,22.179l-0.268,3.214-6.5177,4.018\"/>\n",
    "  <path id=\"path8\" d=\"M14.286,19.768v4.821l2.678,3.393\"/>\n",
    "  <path id=\"path9\" d=\"M18.036,20.125l1.25,5.446,3.303,1.608\"/>\n",
    "  <path id=\"path10\" d=\"M24.464,13.964l2.232-2.232\"/>\n",
    "  <path id=\"path11\" d=\"M24.732,18.429l1.964,2.232\"/>\n",
    "  <path id=\"path12\" stroke-linejoin=\"miter\" d=\"M27.143,15.661l1.696,0.178\"/>\n",
    "  <path id=\"path13\" stroke-linejoin=\"miter\" d=\"M28.571,16.821l-1.25,0.358\"/>\n",
    " </g>\n",
    "</svg>\n",
    "\"\"\")"
   ]
  },
  {
   "cell_type": "code",
   "execution_count": 18,
   "metadata": {},
   "outputs": [
    {
     "data": {
      "application/vnd.jupyter.widget-view+json": {
       "model_id": "5aaaf305843c498faa44c9a006b685dc",
       "version_major": 2,
       "version_minor": 0
      },
      "text/plain": [
       "HTML(value='\\n<style>\\n.stack\\n{\\nposition: absolute;\\ntop: 0px;\\nleft: 0px;\\n}\\n</style>\\n\\n<div>\\n<?xml vers…"
      ]
     },
     "metadata": {},
     "output_type": "display_data"
    }
   ],
   "source": [
    "HTML(\"\"\"\n",
    "<style>\n",
    ".stack\n",
    "{\n",
    "position: absolute;\n",
    "top: 0px;\n",
    "left: 0px;\n",
    "}\n",
    "</style>\n",
    "\n",
    "<div>\n",
    "<?xml version=\"1.0\" encoding=\"UTF-8\" standalone=\"no\"?>\n",
    "<!-- Created with Inkscape (http://www.inkscape.org/) -->\n",
    "<svg id=\"svg2\" xmlns=\"http://www.w3.org/2000/svg\"  height=\"32\" width=\"32\" version=\"1.0\">\n",
    " <g id=\"layer1\" stroke-linejoin=\"miter\" fill-rule=\"evenodd\" stroke=\"#000\" stroke-linecap=\"butt\" stroke-width=\"1px\" fill=\"#5c4f4b\">\n",
    "  <path id=\"path1\" d=\"M6.5179,14.5l4.7321,0.357-5.0893,5.536,8.8393,4.196,7.679-3.75,2.053-4.464-1.25-5.536-7.232-0.357-5.089-1.9641-4.6431,5.9821z\"/>\n",
    "  <path id=\"path2\" d=\"M10.804,12.268l-4.1076,5.536,8.4826,4.285,7.41-5-1.16-8.4819-5-1.25-5.625,4.9109z\"/>\n",
    "  <path id=\"path3\" d=\"M13.036,15.75l6.964-1.429-1.786-2.142-3.75-0.268-1.428,3.839z\"/>\n",
    " </g>\n",
    "</svg>\n",
    "</div>\n",
    "\"\"\")"
   ]
  },
  {
   "cell_type": "markdown",
   "metadata": {},
   "source": [
    "# Bonne configuration"
   ]
  },
  {
   "cell_type": "code",
   "execution_count": 24,
   "metadata": {},
   "outputs": [
    {
     "data": {
      "application/vnd.jupyter.widget-view+json": {
       "model_id": "0c3af6a446b542099d802180348f6b96",
       "version_major": 2,
       "version_minor": 0
      },
      "text/plain": [
       "HTML(value='\\n<style>\\n.stack\\n{\\nposition: absolute;\\ntop: 0px;\\nleft: 0px;\\n}\\n</style>\\n\\n<div style=\"posit…"
      ]
     },
     "metadata": {},
     "output_type": "display_data"
    }
   ],
   "source": [
    "HTML(\"\"\"\n",
    "<style>\n",
    ".stack\n",
    "{\n",
    "position: absolute;\n",
    "top: 0px;\n",
    "left: 0px;\n",
    "}\n",
    "</style>\n",
    "\n",
    "<div style=\"position: relative; left: 0px; top: 0px; \">\n",
    "<svg id=\"svg2\" class=\"stack\" xmlns=\"http://www.w3.org/2000/svg\" height=\"32\" width=\"32\" version=\"1.0\">\n",
    " <g id=\"layer1\" stroke=\"#000\" stroke-width=\"1px\" stroke-linejoin=\"bevel\" stroke-linecap=\"butt\" fill=\"none\" transform=\"matrix(0,-1,1,0,0,32)\">\n",
    "  <path id=\"path1\" d=\"M27.054,13.741c0,3.329-2.458,6.028-5.492,6.028-3.033,0-5.491-2.699-5.491-6.028s2.458-6.0283,5.491-6.0283c3.034,0,5.492,2.6993,5.492,6.0283z\" transform=\"translate(-11.78571,2.589285)\" fill=\"#808080\"/>\n",
    "  <path id=\"path2\" d=\"M24.018,6.6429l-3.75,2.6785-1.697,3.9286\"/>\n",
    "  <path id=\"path3\" d=\"M32.054,16.509c0,2.046-1.679,3.705-3.75,3.705s-3.75-1.659-3.75-3.705,1.679-3.705,3.75-3.705,3.75,1.659,3.75,3.705z\" transform=\"translate(-11.78571,-0.178571)\" fill=\"#808080\"/>\n",
    "  <path id=\"path4\" d=\"M28.661,17c0,2.318-1.799,4.197-4.018,4.197s-4.018-1.879-4.018-4.197,1.799-4.197,4.018-4.197,4.018,1.879,4.018,4.197z\" transform=\"translate(-1.428571,-0.803571)\" fill=\"#808080\"/>\n",
    "  <path id=\"path5\" d=\"M4.2857,1.9107l5.9823,5.7143,0.446,2.589\"/>\n",
    "  <path id=\"path6\" d=\"M18.393,5.5714l-2.589,2.4107-0.715,4.5539\"/>\n",
    "  <path id=\"path7\" d=\"M10.625,22.179l-0.268,3.214-6.5177,4.018\"/>\n",
    "  <path id=\"path8\" d=\"M14.286,19.768v4.821l2.678,3.393\"/>\n",
    "  <path id=\"path9\" d=\"M18.036,20.125l1.25,5.446,3.303,1.608\"/>\n",
    "  <path id=\"path10\" d=\"M24.464,13.964l2.232-2.232\"/>\n",
    "  <path id=\"path11\" d=\"M24.732,18.429l1.964,2.232\"/>\n",
    "  <path id=\"path12\" stroke-linejoin=\"miter\" d=\"M27.143,15.661l1.696,0.178\"/>\n",
    "  <path id=\"path13\" stroke-linejoin=\"miter\" d=\"M28.571,16.821l-1.25,0.358\"/>\n",
    " </g>\n",
    "</svg>\n",
    "</div>\n",
    "<div style=\"position: relative; left: 0px; top: 0px; \">\n",
    "<?xml version=\"1.0\" encoding=\"UTF-8\" standalone=\"no\"?>\n",
    "<!-- Created with Inkscape (http://www.inkscape.org/) -->\n",
    "<svg id=\"svg2\" class=\"stack\" xmlns=\"http://www.w3.org/2000/svg\"  height=\"32\" width=\"32\" version=\"1.0\">\n",
    " <g id=\"layer1\" stroke-linejoin=\"miter\" fill-rule=\"evenodd\" stroke=\"#000\" stroke-linecap=\"butt\" stroke-width=\"1px\" fill=\"#5c4f4b\">\n",
    "  <path id=\"path1\" d=\"M6.5179,14.5l4.7321,0.357-5.0893,5.536,8.8393,4.196,7.679-3.75,2.053-4.464-1.25-5.536-7.232-0.357-5.089-1.9641-4.6431,5.9821z\"/>\n",
    "  <path id=\"path2\" d=\"M10.804,12.268l-4.1076,5.536,8.4826,4.285,7.41-5-1.16-8.4819-5-1.25-5.625,4.9109z\"/>\n",
    "  <path id=\"path3\" d=\"M13.036,15.75l6.964-1.429-1.786-2.142-3.75-0.268-1.428,3.839z\"/>\n",
    " </g>\n",
    "</svg>\n",
    "</div>\n",
    "<?xml version=\"1.0\" encoding=\"UTF-8\" standalone=\"no\"?>\n",
    "<!-- Created with Inkscape (http://www.inkscape.org/) -->\n",
    "<svg id=\"svg2\" xmlns=\"http://www.w3.org/2000/svg\" height=\"32\" width=\"32\" version=\"1.0\">\n",
    " <g id=\"layer1\" stroke-width=\"1px\" stroke-linejoin=\"miter\" transform=\"translate(6.339286,5.089286)\" stroke=\"#000\" stroke-linecap=\"butt\" fill=\"none\">\n",
    "  <path id=\"path1\" d=\"M18.031,9.9375l-4.969,0.3745-1.593,7.126,2.562,4.406,5.625,0.031,2.125-6.687-0.562-3.876-3.188-1.3745z\" transform=\"matrix(0.950389,0.311063,-0.311063,0.950389,-3.155943,-11.70373)\"/>\n",
    "  <path id=\"path2\" d=\"M6.3119,2.4244l1.1924,6.4029,1.1339,6.0077\"/>\n",
    "  <path id=\"path3\" d=\"M3.7443,13.139l3.6459-4.537,5.6608-2.6566\"/>\n",
    "  <path id=\"path4\" d=\"M10.723,3.5863l-3.3066,4.6485\"/>\n",
    "  <path id=\"path5\" d=\"M12.506,9.6189l-4.9461-0.9613\"/>\n",
    "  <path id=\"path6\" d=\"M2.5333,8.5155l5.025-0.1403\"/>\n",
    " </g>\n",
    "</svg>\n",
    "\"\"\")"
   ]
  },
  {
   "cell_type": "code",
   "execution_count": 25,
   "metadata": {},
   "outputs": [
    {
     "data": {
      "application/vnd.jupyter.widget-view+json": {
       "model_id": "eb3e64fda49f47b0a606245a2569b8d4",
       "version_major": 2,
       "version_minor": 0
      },
      "text/plain": [
       "HTML(value='\\n<style>\\n.stack\\n{\\nposition: absolute;\\ntop: 0px;\\nleft: 0px;\\n}\\n</style>\\n\\n<div style=\"posit…"
      ]
     },
     "metadata": {},
     "output_type": "display_data"
    }
   ],
   "source": [
    "HTML(\"\"\"\n",
    "<style>\n",
    ".stack\n",
    "{\n",
    "position: absolute;\n",
    "top: 0px;\n",
    "left: 0px;\n",
    "}\n",
    "</style>\n",
    "\n",
    "<div style=\"position: relative; left: 0px; top: 0px; \">\n",
    "<svg id=\"svg2\" class=\"stack\" xmlns=\"http://www.w3.org/2000/svg\" height=\"32\" width=\"32\" version=\"1.0\">\n",
    " <g id=\"layer1\" stroke=\"#000\" stroke-width=\"1px\" stroke-linejoin=\"bevel\" stroke-linecap=\"butt\" fill=\"none\" transform=\"matrix(0,-1,1,0,0,32)\">\n",
    "  <path id=\"path1\" d=\"M27.054,13.741c0,3.329-2.458,6.028-5.492,6.028-3.033,0-5.491-2.699-5.491-6.028s2.458-6.0283,5.491-6.0283c3.034,0,5.492,2.6993,5.492,6.0283z\" transform=\"translate(-11.78571,2.589285)\" fill=\"#808080\"/>\n",
    "  <path id=\"path2\" d=\"M24.018,6.6429l-3.75,2.6785-1.697,3.9286\"/>\n",
    "  <path id=\"path3\" d=\"M32.054,16.509c0,2.046-1.679,3.705-3.75,3.705s-3.75-1.659-3.75-3.705,1.679-3.705,3.75-3.705,3.75,1.659,3.75,3.705z\" transform=\"translate(-11.78571,-0.178571)\" fill=\"#808080\"/>\n",
    "  <path id=\"path4\" d=\"M28.661,17c0,2.318-1.799,4.197-4.018,4.197s-4.018-1.879-4.018-4.197,1.799-4.197,4.018-4.197,4.018,1.879,4.018,4.197z\" transform=\"translate(-1.428571,-0.803571)\" fill=\"#808080\"/>\n",
    "  <path id=\"path5\" d=\"M4.2857,1.9107l5.9823,5.7143,0.446,2.589\"/>\n",
    "  <path id=\"path6\" d=\"M18.393,5.5714l-2.589,2.4107-0.715,4.5539\"/>\n",
    "  <path id=\"path7\" d=\"M10.625,22.179l-0.268,3.214-6.5177,4.018\"/>\n",
    "  <path id=\"path8\" d=\"M14.286,19.768v4.821l2.678,3.393\"/>\n",
    "  <path id=\"path9\" d=\"M18.036,20.125l1.25,5.446,3.303,1.608\"/>\n",
    "  <path id=\"path10\" d=\"M24.464,13.964l2.232-2.232\"/>\n",
    "  <path id=\"path11\" d=\"M24.732,18.429l1.964,2.232\"/>\n",
    "  <path id=\"path12\" stroke-linejoin=\"miter\" d=\"M27.143,15.661l1.696,0.178\"/>\n",
    "  <path id=\"path13\" stroke-linejoin=\"miter\" d=\"M28.571,16.821l-1.25,0.358\"/>\n",
    " </g>\n",
    "</svg>\n",
    "</div>\n",
    "</div>\n",
    "<?xml version=\"1.0\" encoding=\"UTF-8\" standalone=\"no\"?>\n",
    "<!-- Created with Inkscape (http://www.inkscape.org/) -->\n",
    "<svg id=\"svg2\" xmlns=\"http://www.w3.org/2000/svg\" height=\"32\" width=\"32\" version=\"1.0\">\n",
    " <g id=\"layer1\" stroke-width=\"1px\" stroke-linejoin=\"miter\" transform=\"translate(6.339286,5.089286)\" stroke=\"#000\" stroke-linecap=\"butt\" fill=\"none\">\n",
    "  <path id=\"path1\" d=\"M18.031,9.9375l-4.969,0.3745-1.593,7.126,2.562,4.406,5.625,0.031,2.125-6.687-0.562-3.876-3.188-1.3745z\" transform=\"matrix(0.950389,0.311063,-0.311063,0.950389,-3.155943,-11.70373)\"/>\n",
    "  <path id=\"path2\" d=\"M6.3119,2.4244l1.1924,6.4029,1.1339,6.0077\"/>\n",
    "  <path id=\"path3\" d=\"M3.7443,13.139l3.6459-4.537,5.6608-2.6566\"/>\n",
    "  <path id=\"path4\" d=\"M10.723,3.5863l-3.3066,4.6485\"/>\n",
    "  <path id=\"path5\" d=\"M12.506,9.6189l-4.9461-0.9613\"/>\n",
    "  <path id=\"path6\" d=\"M2.5333,8.5155l5.025-0.1403\"/>\n",
    " </g>\n",
    "</svg>\n",
    "\"\"\")"
   ]
  },
  {
   "cell_type": "code",
   "execution_count": null,
   "metadata": {},
   "outputs": [],
   "source": []
  }
 ],
 "metadata": {
  "kernelspec": {
   "display_name": "Python 3",
   "language": "python",
   "name": "python3"
  },
  "language_info": {
   "codemirror_mode": {
    "name": "ipython",
    "version": 3
   },
   "file_extension": ".py",
   "mimetype": "text/x-python",
   "name": "python",
   "nbconvert_exporter": "python",
   "pygments_lexer": "ipython3",
   "version": "3.8.3"
  }
 },
 "nbformat": 4,
 "nbformat_minor": 4
}

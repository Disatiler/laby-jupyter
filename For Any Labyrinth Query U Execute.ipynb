{
 "cells": [
  {
   "cell_type": "markdown",
   "metadata": {
    "slideshow": {
     "slide_type": "slide"
    }
   },
   "source": [
    "# For Any Labyrinth Query U Execute\n",
    "\n",
    "**Author : Matthieu Robeyns**\n",
    "\n",
    "The following instructions explain how to solve any maze in the game Laby step by step.\n",
    "If you have any information about the game Laby, please refer to this [page](https://github.com/sgimenez/laby/issues/52) first.\n",
    "\n",
    "Feel free to ask any questions [here](https://gitlab.u-psud.fr/ter-graphupsud/labycpp_python.git) !"
   ]
  },
  {
   "cell_type": "markdown",
   "metadata": {
    "slideshow": {
     "slide_type": "skip"
    }
   },
   "source": [
    "### Introduction of our project:\n",
    "\n",
    "Before starting, you need to understand why do we do that and how it work.\n",
    "<br/> You are in a Jupyter Notebook, this platform unleash the power of execute any part of code you want by selected the cell and press Shift+Enter. But in this file, we shall you to execute cell step by step to avoid any error.\n",
    "<br/> The good point of Jupyter Notebook is, you can show the result of algorithm with dynamic's slides. To do that, you need to click on the button RISE Slideshow (to the left of a clock button). Once in the slide, you can scroll slide like any slider but some slides may get cell with code inside. And in RISE you can execute code without quit slideshow! You need to press Shift+Enter when you are in the cell and the output must appear (if it had one).\n",
    "<br/> After you run some cell you can run again the same cell while an error don't occur. \n",
    "#### If a error occur when you re-run a cell, you need to restart the Kernel!\n",
    "<br/> To do that, click on the Kernel button (left to the Widgets button) and press 'Restart & Clear Output' then accept your choice and usually you can run the algorithm again without any error.\n",
    "\n",
    "\n",
    "#### Notice : If you run RISE Slideshow, you do not see this part!\n",
    "\n",
    "First things you need to know is we are students in French University called [Université Paris-Saclay](https://www.universite-paris-saclay.fr/).\n",
    "<br/> This project is for 'Travaille d'Etude et de Recherche' (aka TER), aim to make us discover new horizon of program. This project promote team work, so I also works in graph representation in Jupyter Notebook with his colleague Damien Merret. Then for a better explanation of Jupyter and TER, please read [this](https://gitlab.u-psud.fr/ter-graphupsud/algorithme_des_plus-courts_chemins_en_cpp/blob/master/rapport.ipynb) first. \n",
    "<br/> Now I need to explain why did I choose this project for my research. First, Laby was the first program I use in my first degree. It was very effective to learn how use loops and language. So, I want to go further with Laby because when I finished the game, I was so sad cause interaction become limit when you know more about computer science.\n",
    "\n",
    "\n",
    "This code was to experiment an heuristic about maze.\n",
    "#### Heuristic: In maze, if you search an exit, keep the wall to your right when you walk.\n",
    "\n",
    "We use Laby's maze because Laby is very useful to resolve sample maze. Plus, Laby is a good first step to learn programming. Thus, even beginner can use our algorithm and see what append.\n",
    "\n",
    "Now, we need to talk more specially about the heuristic. Firstly, in Laby and maybe in lot of case we did not start with a wall to the left or to the right. So we need to find a wall. To do that, we just walk in front of us until we get the wall. Basically, we must see a wall, else if we just can find the exit.\n",
    "So the first step of our algorithm is to find a wall with the function 'SearchWall()'.\n",
    "\n",
    "Then we just use a function called 'WallRight()', which check if a wall is in right of the ant and if it is true, when the ant can just walk away.\n",
    "\n",
    "But that not enough, cause Laby have one disrupt, in fact the maze have web and rock. Web can not be cross by the ant until he destroy it with a rock. Still ant can only leave one rock at once.\n",
    "\n",
    "So we need to adjust our code for those problem.\n",
    "Hence, when we search a wall now and we see a web, we just bypass it (if it is possible), or we walk to the left now.\n",
    "The second problem appear is the exit can be hide by a web, so to solve this problem we just save each position of rock and web we discover and when we can use a rock to destroy a web we backtracking, with the function 'Backtracking(Rock,WallToTheLeft)', and we explore the new way discovery by the web.\n",
    "\n",
    "By this method, we can solve all maze create in Laby, and maybe all maze we can generate.\n",
    "All?? Unfortunately, that's not true.\n",
    "Imagine a maze with a orphan wall in center. If the ant has this wall for reference, he just walk around indefinitely.\n",
    "\n",
    "Luckily, we have a solution. This solution need to implement a new mechanics in Laby, but that a small cost.\n",
    "We need to create a new sprite which is the step of the ant. Thus, if the ant see his feet in the same direction he knows, he turn around and he decide to follow the wall in his left now.\n",
    "\n",
    "So, below you can train what we say with the code and each level of Laby.\n",
    "\n",
    "### What have you learn?\n",
    "\n",
    "The biggest mystery of all the time, how Laby works. This is very suprising to know Laby in Jupyter Notebook use lot of language to be very smooth. In fact, it use JavaScript and HTML to print the maze and the evolution of the ant. But for the action of the ant, we use C++. And to use this action in Jupyter Notebook... Unfortunately we need to use Python language, to be more specific about this part we need to talk about the Graph Project do by Damien Merret and Matthieu Robeyns.  \n",
    "\n",
    "Have fun, and a nice day!"
   ]
  },
  {
   "cell_type": "markdown",
   "metadata": {
    "slideshow": {
     "slide_type": "slide"
    }
   },
   "source": [
    "## Step 1\n",
    "\n",
    "Include [solve.hpp](https://gitlab.u-psud.fr/ter-graphupsud/labycpp_python/blob/master/solve.hpp).\n",
    "\n",
    "This header file contains everything necessary to solve and draw mazes"
   ]
  },
  {
   "cell_type": "code",
   "execution_count": 1,
   "metadata": {
    "slideshow": {
     "slide_type": "fragment"
    }
   },
   "outputs": [],
   "source": [
    "#include \"solve.hpp\"\n",
    "#include <iostream>\n",
    "#include <string>\n",
    "using namespace std;"
   ]
  },
  {
   "cell_type": "markdown",
   "metadata": {
    "slideshow": {
     "slide_type": "slide"
    }
   },
   "source": [
    "## Step 2\n",
    "\n",
    "Run the code below to choose the maze you wish to solve. Simply fill in the box any of the following:\n",
    "* 0\n",
    "* 1a\n",
    "* 1b\n",
    "* 1c\n",
    "* 2a\n",
    "* 2b\n",
    "* 2c\n",
    "* 3a\n",
    "* 3b\n",
    "* 4a\n",
    "* 4b\n",
    "* counting-the-rocks\n",
    "* this-is-crazy\n",
    "\n",
    "**Warning! If you want to try an another maze, you need to reboot the jupyter C++ kernel!**"
   ]
  },
  {
   "cell_type": "code",
   "execution_count": 2,
   "metadata": {
    "scrolled": false,
    "slideshow": {
     "slide_type": "fragment"
    }
   },
   "outputs": [
    {
     "name": "stdout",
     "output_type": "stream",
     "text": [
      "Enter the level you want to solve! \n",
      "You choose the level this-is-crazy\n",
      "<?xml version=\"1.0\" encoding=\"UTF-8\" standalone=\"no\"?>\n",
      "<!-- Created with Inkscape (http://www.inkscape.org/) -->\n",
      "<svg id=\"svg2\" xmlns=\"http://www.w3.org/2000/svg\" height=\"32\" width=\"32\" version=\"1.0\">\n",
      " <g id=\"layer1\" stroke=\"#000\" stroke-width=\"1px\" stroke-linejoin=\"bevel\" stroke-linecap=\"butt\" fill=\"none\" transform=\"matrix(1,0,0,1,0,0)\">\n",
      "  <path id=\"path1\" d=\"M27.054,13.741c0,3.329-2.458,6.028-5.492,6.028-3.033,0-5.491-2.699-5.491-6.028s2.458-6.0283,5.491-6.0283c3.034,0,5.492,2.6993,5.492,6.0283z\" transform=\"translate(-11.78571,2.589285)\" fill=\"#808080\"/>\n",
      "  <path id=\"path2\" d=\"M24.018,6.6429l-3.75,2.6785-1.697,3.9286\"/>\n",
      "  <path id=\"path3\" d=\"M32.054,16.509c0,2.046-1.679,3.705-3.75,3.705s-3.75-1.659-3.75-3.705,1.679-3.705,3.75-3.705,3.75,1.659,3.75,3.705z\" transform=\"translate(-11.78571,-0.178571)\" fill=\"#808080\"/>\n",
      "  <path id=\"path4\" d=\"M28.661,17c0,2.318-1.799,4.197-4.018,4.197s-4.018-1.879-4.018-4.197,1.799-4.197,4.018-4.197,4.018,1.879,4.018,4.197z\" transform=\"translate(-1.428571,-0.803571)\" fill=\"#808080\"/>\n",
      "  <path id=\"path5\" d=\"M4.2857,1.9107l5.9823,5.7143,0.446,2.589\"/>\n",
      "  <path id=\"path6\" d=\"M18.393,5.5714l-2.589,2.4107-0.715,4.5539\"/>\n",
      "  <path id=\"path7\" d=\"M10.625,22.179l-0.268,3.214-6.5177,4.018\"/>\n",
      "  <path id=\"path8\" d=\"M14.286,19.768v4.821l2.678,3.393\"/>\n",
      "  <path id=\"path9\" d=\"M18.036,20.125l1.25,5.446,3.303,1.608\"/>\n",
      "  <path id=\"path10\" d=\"M24.464,13.964l2.232-2.232\"/>\n",
      "  <path id=\"path11\" d=\"M24.732,18.429l1.964,2.232\"/>\n",
      "  <path id=\"path12\" stroke-linejoin=\"miter\" d=\"M27.143,15.661l1.696,0.178\"/>\n",
      "  <path id=\"path13\" stroke-linejoin=\"miter\" d=\"M28.571,16.821l-1.25,0.358\"/>\n",
      " </g>\n",
      "</svg>\n",
      "\n",
      "<?xml version=\"1.0\" encoding=\"UTF-8\" standalone=\"no\"?>\n",
      "<!-- Created with Inkscape (http://www.inkscape.org/) -->\n",
      "<svg id=\"svg2\" xmlns=\"http://www.w3.org/2000/svg\" height=\"32\" width=\"32\" version=\"1.0\">\n",
      " <g id=\"layer1\" stroke=\"#000\" stroke-width=\"1px\" stroke-linejoin=\"bevel\" stroke-linecap=\"butt\" fill=\"none\" transform=\"matrix(0,-1,1,0,0,32)\">\n",
      "  <path id=\"path1\" d=\"M27.054,13.741c0,3.329-2.458,6.028-5.492,6.028-3.033,0-5.491-2.699-5.491-6.028s2.458-6.0283,5.491-6.0283c3.034,0,5.492,2.6993,5.492,6.0283z\" transform=\"translate(-11.78571,2.589285)\" fill=\"#808080\"/>\n",
      "  <path id=\"path2\" d=\"M24.018,6.6429l-3.75,2.6785-1.697,3.9286\"/>\n",
      "  <path id=\"path3\" d=\"M32.054,16.509c0,2.046-1.679,3.705-3.75,3.705s-3.75-1.659-3.75-3.705,1.679-3.705,3.75-3.705,3.75,1.659,3.75,3.705z\" transform=\"translate(-11.78571,-0.178571)\" fill=\"#808080\"/>\n",
      "  <path id=\"path4\" d=\"M28.661,17c0,2.318-1.799,4.197-4.018,4.197s-4.018-1.879-4.018-4.197,1.799-4.197,4.018-4.197,4.018,1.879,4.018,4.197z\" transform=\"translate(-1.428571,-0.803571)\" fill=\"#808080\"/>\n",
      "  <path id=\"path5\" d=\"M4.2857,1.9107l5.9823,5.7143,0.446,2.589\"/>\n",
      "  <path id=\"path6\" d=\"M18.393,5.5714l-2.589,2.4107-0.715,4.5539\"/>\n",
      "  <path id=\"path7\" d=\"M10.625,22.179l-0.268,3.214-6.5177,4.018\"/>\n",
      "  <path id=\"path8\" d=\"M14.286,19.768v4.821l2.678,3.393\"/>\n",
      "  <path id=\"path9\" d=\"M18.036,20.125l1.25,5.446,3.303,1.608\"/>\n",
      "  <path id=\"path10\" d=\"M24.464,13.964l2.232-2.232\"/>\n",
      "  <path id=\"path11\" d=\"M24.732,18.429l1.964,2.232\"/>\n",
      "  <path id=\"path12\" stroke-linejoin=\"miter\" d=\"M27.143,15.661l1.696,0.178\"/>\n",
      "  <path id=\"path13\" stroke-linejoin=\"miter\" d=\"M28.571,16.821l-1.25,0.358\"/>\n",
      " </g>\n",
      "</svg>\n",
      "\n",
      "<?xml version=\"1.0\" encoding=\"UTF-8\" standalone=\"no\"?>\n",
      "<!-- Created with Inkscape (http://www.inkscape.org/) -->\n",
      "<svg id=\"svg2\" xmlns=\"http://www.w3.org/2000/svg\" height=\"32\" width=\"32\" version=\"1.0\">\n",
      " <g id=\"layer1\" stroke=\"#000\" stroke-width=\"1px\" stroke-linejoin=\"bevel\" stroke-linecap=\"butt\" fill=\"none\" transform=\"matrix(0,1,-1,0,32,0)\">\n",
      "  <path id=\"path1\" d=\"M27.054,13.741c0,3.329-2.458,6.028-5.492,6.028-3.033,0-5.491-2.699-5.491-6.028s2.458-6.0283,5.491-6.0283c3.034,0,5.492,2.6993,5.492,6.0283z\" transform=\"translate(-11.78571,2.589285)\" fill=\"#808080\"/>\n",
      "  <path id=\"path2\" d=\"M24.018,6.6429l-3.75,2.6785-1.697,3.9286\"/>\n",
      "  <path id=\"path3\" d=\"M32.054,16.509c0,2.046-1.679,3.705-3.75,3.705s-3.75-1.659-3.75-3.705,1.679-3.705,3.75-3.705,3.75,1.659,3.75,3.705z\" transform=\"translate(-11.78571,-0.178571)\" fill=\"#808080\"/>\n",
      "  <path id=\"path4\" d=\"M28.661,17c0,2.318-1.799,4.197-4.018,4.197s-4.018-1.879-4.018-4.197,1.799-4.197,4.018-4.197,4.018,1.879,4.018,4.197z\" transform=\"translate(-1.428571,-0.803571)\" fill=\"#808080\"/>\n",
      "  <path id=\"path5\" d=\"M4.2857,1.9107l5.9823,5.7143,0.446,2.589\"/>\n",
      "  <path id=\"path6\" d=\"M18.393,5.5714l-2.589,2.4107-0.715,4.5539\"/>\n",
      "  <path id=\"path7\" d=\"M10.625,22.179l-0.268,3.214-6.5177,4.018\"/>\n",
      "  <path id=\"path8\" d=\"M14.286,19.768v4.821l2.678,3.393\"/>\n",
      "  <path id=\"path9\" d=\"M18.036,20.125l1.25,5.446,3.303,1.608\"/>\n",
      "  <path id=\"path10\" d=\"M24.464,13.964l2.232-2.232\"/>\n",
      "  <path id=\"path11\" d=\"M24.732,18.429l1.964,2.232\"/>\n",
      "  <path id=\"path12\" stroke-linejoin=\"miter\" d=\"M27.143,15.661l1.696,0.178\"/>\n",
      "  <path id=\"path13\" stroke-linejoin=\"miter\" d=\"M28.571,16.821l-1.25,0.358\"/>\n",
      " </g>\n",
      "</svg>\n",
      "\n",
      "<?xml version=\"1.0\" encoding=\"UTF-8\" standalone=\"no\"?>\n",
      "<!-- Created with Inkscape (http://www.inkscape.org/) -->\n",
      "<svg id=\"svg2\" xmlns=\"http://www.w3.org/2000/svg\" height=\"32\" width=\"32\" version=\"1.0\">\n",
      " <g id=\"layer1\" stroke=\"#000\" stroke-width=\"1px\" stroke-linejoin=\"bevel\" stroke-linecap=\"butt\" fill=\"none\" transform=\"matrix(-1,0,0,-1,32,32)\">\n",
      "  <path id=\"path1\" d=\"M27.054,13.741c0,3.329-2.458,6.028-5.492,6.028-3.033,0-5.491-2.699-5.491-6.028s2.458-6.0283,5.491-6.0283c3.034,0,5.492,2.6993,5.492,6.0283z\" transform=\"translate(-11.78571,2.589285)\" fill=\"#808080\"/>\n",
      "  <path id=\"path2\" d=\"M24.018,6.6429l-3.75,2.6785-1.697,3.9286\"/>\n",
      "  <path id=\"path3\" d=\"M32.054,16.509c0,2.046-1.679,3.705-3.75,3.705s-3.75-1.659-3.75-3.705,1.679-3.705,3.75-3.705,3.75,1.659,3.75,3.705z\" transform=\"translate(-11.78571,-0.178571)\" fill=\"#808080\"/>\n",
      "  <path id=\"path4\" d=\"M28.661,17c0,2.318-1.799,4.197-4.018,4.197s-4.018-1.879-4.018-4.197,1.799-4.197,4.018-4.197,4.018,1.879,4.018,4.197z\" transform=\"translate(-1.428571,-0.803571)\" fill=\"#808080\"/>\n",
      "  <path id=\"path5\" d=\"M4.2857,1.9107l5.9823,5.7143,0.446,2.589\"/>\n",
      "  <path id=\"path6\" d=\"M18.393,5.5714l-2.589,2.4107-0.715,4.5539\"/>\n",
      "  <path id=\"path7\" d=\"M10.625,22.179l-0.268,3.214-6.5177,4.018\"/>\n",
      "  <path id=\"path8\" d=\"M14.286,19.768v4.821l2.678,3.393\"/>\n",
      "  <path id=\"path9\" d=\"M18.036,20.125l1.25,5.446,3.303,1.608\"/>\n",
      "  <path id=\"path10\" d=\"M24.464,13.964l2.232-2.232\"/>\n",
      "  <path id=\"path11\" d=\"M24.732,18.429l1.964,2.232\"/>\n",
      "  <path id=\"path12\" stroke-linejoin=\"miter\" d=\"M27.143,15.661l1.696,0.178\"/>\n",
      "  <path id=\"path13\" stroke-linejoin=\"miter\" d=\"M28.571,16.821l-1.25,0.358\"/>\n",
      " </g>\n",
      "</svg>\n",
      "\n",
      "<?xml version=\"1.0\" encoding=\"UTF-8\" standalone=\"no\"?>\n",
      "<!-- Created with Inkscape (http://www.inkscape.org/) -->\n",
      "<svg id=\"svg2\" xmlns=\"http://www.w3.org/2000/svg\" height=\"32\" width=\"32\" version=\"1.0\">\n",
      " <g id=\"layer1\" stroke-linejoin=\"miter\" fill-rule=\"evenodd\" stroke=\"#000\" stroke-linecap=\"butt\" stroke-width=\"1px\">\n",
      "  <path id=\"path1\" d=\"M4.1964,2.9821l-0.0893,27.143,24.732,0.625-0.982-29.375-23.661,1.6071z\" fill=\"#d35f5f\"/>\n",
      "  <path id=\"path2\" d=\"M22.589,14.232c-1.333,0.972-0.469,2.806,0.715,3.482,1.25,0.715,2.678-0.803,2.5-2.143-0.178-1.33-1.939-2.269-3.215-1.339z\" fill=\"#FFF\"/>\n",
      " </g>\n",
      "</svg>\n",
      "\n",
      "<?xml version=\"1.0\" encoding=\"UTF-8\" standalone=\"no\"?>\n",
      "<!-- Created with Inkscape (http://www.inkscape.org/) -->\n",
      "<svg id=\"svg2\" xmlns=\"http://www.w3.org/2000/svg\" height=\"32\" width=\"32\" version=\"1.0\">\n",
      " <g id=\"layer1\" stroke-linejoin=\"miter\" fill-rule=\"evenodd\" stroke=\"#000\" stroke-linecap=\"butt\" stroke-width=\"1px\" fill=\"#5c4f4b\">\n",
      "  <path id=\"path1\" d=\"M6.7857,6.4643l1.7857,7.4107,1.6966-5.4464h4.196l-5.4461-3.3929-2.2322,1.4286z\"/>\n",
      "  <path id=\"path2\" d=\"M4.1071,11.375l6.9639-1.4286-1.7853-2.1428-3.75-0.2679-1.4286,3.8393z\"/>\n",
      "  <path id=\"path3\" d=\"M21.161,22.759l-1.607,4.018,5.446,0.178,2.321-0.803,1.072-3.125-2.322-2.054-4.91,1.786z\"/>\n",
      "  <path id=\"path4\" d=\"M21.071,28.116l3.125-0.714,0.983-1.964-2.679-1.161-1.429,3.839z\"/>\n",
      "  <path id=\"path5\" d=\"M6.6071,26.777l2.3215-0.357,0.4464-1.697-3.75-0.268,0.9821,2.322z\"/>\n",
      "  <path id=\"path6\" d=\"M26.964,6.7321l0.447-1.6964-3.75-0.2678,3.303,1.9642z\"/>\n",
      " </g>\n",
      "</svg>\n",
      "\n",
      "<?xml version=\"1.0\" encoding=\"UTF-8\" standalone=\"no\"?>\n",
      "<!-- Created with Inkscape (http://www.inkscape.org/) -->\n",
      "<svg id=\"svg2\" xmlns=\"http://www.w3.org/2000/svg\" height=\"32\" width=\"32\" version=\"1.0\">\n",
      " <g id=\"layer1\" stroke-width=\"1px\" stroke-linejoin=\"miter\" transform=\"translate(6.339286,5.089286)\" stroke=\"#000\" stroke-linecap=\"butt\" fill=\"none\">\n",
      "  <path id=\"path1\" d=\"M18.031,9.9375l-4.969,0.3745-1.593,7.126,2.562,4.406,5.625,0.031,2.125-6.687-0.562-3.876-3.188-1.3745z\" transform=\"matrix(0.950389,0.311063,-0.311063,0.950389,-3.155943,-11.70373)\"/>\n",
      "  <path id=\"path2\" d=\"M6.3119,2.4244l1.1924,6.4029,1.1339,6.0077\"/>\n",
      "  <path id=\"path3\" d=\"M3.7443,13.139l3.6459-4.537,5.6608-2.6566\"/>\n",
      "  <path id=\"path4\" d=\"M10.723,3.5863l-3.3066,4.6485\"/>\n",
      "  <path id=\"path5\" d=\"M12.506,9.6189l-4.9461-0.9613\"/>\n",
      "  <path id=\"path6\" d=\"M2.5333,8.5155l5.025-0.1403\"/>\n",
      " </g>\n",
      "</svg>\n",
      "\n"
     ]
    },
    {
     "name": "stdout",
     "output_type": "stream",
     "text": [
      "<?xml version=\"1.0\" encoding=\"UTF-8\" standalone=\"no\"?>\n",
      "<!-- Created with Inkscape (http://www.inkscape.org/) -->\n",
      "<svg id=\"svg2\" xmlns=\"http://www.w3.org/2000/svg\" height=\"32\" width=\"32\" version=\"1.0\">\n",
      " <g id=\"layer1\" stroke-linejoin=\"miter\" fill-rule=\"evenodd\" stroke=\"#000\" stroke-linecap=\"butt\" stroke-width=\"1px\" fill=\"#5c4f4b\">\n",
      "  <path id=\"path1\" d=\"M6.5179,14.5l4.7321,0.357-5.0893,5.536,8.8393,4.196,7.679-3.75,2.053-4.464-1.25-5.536-7.232-0.357-5.089-1.9641-4.6431,5.9821z\"/>\n",
      "  <path id=\"path2\" d=\"M10.804,12.268l-4.1076,5.536,8.4826,4.285,7.41-5-1.16-8.4819-5-1.25-5.625,4.9109z\"/>\n",
      "  <path id=\"path3\" d=\"M13.036,15.75l6.964-1.429-1.786-2.142-3.75-0.268-1.428,3.839z\"/>\n",
      " </g>\n",
      "</svg>\n",
      "\n",
      "<?xml version=\"1.0\" encoding=\"UTF-8\" standalone=\"no\"?>\n",
      "<!-- Created with Inkscape (http://www.inkscape.org/) -->\n",
      "<svg id=\"svg2\" xmlns=\"http://www.w3.org/2000/svg\" height=\"32\" width=\"32\" version=\"1.0\"></svg>\n",
      "\n",
      "<?xml version=\"1.0\" encoding=\"UTF-8\" standalone=\"no\"?>\n",
      "<!-- Created with Inkscape (http://www.inkscape.org/) -->\n",
      "<svg id=\"svg2\" xmlns=\"http://www.w3.org/2000/svg\" height=\"32\" width=\"32\" version=\"1.0\">\n",
      " <g id=\"layer1\" stroke=\"#000\" fill=\"#ff6400\">\n",
      "  <rect id=\"rect1\" height=\"8.75\" width=\"13.839\" y=\"1.1964\" x=\"1.4286\"/>\n",
      "  <rect id=\"rect2\" height=\"8.75\" width=\"13.839\" y=\"5.0357\" x=\"7.2768\"/>\n",
      "  <rect id=\"rect3\" height=\"8.75\" width=\"13.839\" y=\"1.1071\" x=\"16.92\"/>\n",
      "  <rect id=\"rect4\" height=\"8.75\" width=\"13.839\" y=\"11.643\" x=\"1.3839\"/>\n",
      "  <rect id=\"rect5\" height=\"8.75\" width=\"13.839\" y=\"15.393\" x=\"7.2768\"/>\n",
      "  <rect id=\"rect6\" height=\"8.75\" width=\"13.839\" y=\"11.732\" x=\"16.83\"/>\n",
      "  <rect id=\"rect7\" height=\"8.75\" width=\"13.839\" y=\"21.911\" x=\"1.3839\"/>\n",
      "  <rect id=\"rect8\" height=\"8.75\" width=\"13.839\" y=\"22\" x=\"16.83\"/>\n",
      " </g>\n",
      "</svg>\n",
      "\n",
      "<?xml version=\"1.0\" encoding=\"UTF-8\" standalone=\"no\"?>\n",
      "<!-- Created with Inkscape (http://www.inkscape.org/) -->\n",
      "<svg id=\"svg2\" xmlns=\"http://www.w3.org/2000/svg\" height=\"32\" width=\"32\" version=\"1.0\">\n",
      " <g id=\"layer1\" stroke-linejoin=\"miter\" stroke=\"#000\" stroke-linecap=\"butt\" stroke-width=\"1px\" fill=\"none\">\n",
      "  <path id=\"path1\" d=\"M18.812,5.4062l-9.3745,0.7188-2.7187,12.031,4.7812,8.125,11.438,0.063,3.406-10.75-1.063-7.3752-6.469-2.8126z\"/>\n",
      "  <path id=\"path2\" d=\"M19.562,1.0312l-13.593,1.0626-3.8126,16.781,6.875,11.687,17.031,0.094,4.657-14.687-1.531-10.75-9.626-4.1876z\"/>\n",
      "  <path id=\"path3\" d=\"M5.9821,1.8214l10.536,14.375,9.464,14.554\"/>\n",
      "  <path id=\"path4\" d=\"M8.75,30.482l7.589-14.464,12.947-10.447\"/>\n",
      "  <path id=\"path5\" d=\"M19.464,0.92857l-3.214,14.732\"/>\n",
      "  <path id=\"path6\" d=\"M30.536,16.107l-14.018-0.089\"/>\n",
      "  <path id=\"path7\" d=\"M1.9643,18.696l14.465-2.946\"/>\n",
      " </g>\n",
      "</svg>\n",
      "\n",
      "<?xml version=\"1.0\" encoding=\"UTF-8\" standalone=\"no\"?>\n",
      "<!-- Created with Inkscape (http://www.inkscape.org/) -->\n",
      "<svg id=\"svg2\" xmlns=\"http://www.w3.org/2000/svg\" height=\"32\" width=\"32\" version=\"1.0\"></svg>\n",
      "\n",
      "<?xml version=\"1.0\" encoding=\"UTF-8\" standalone=\"no\"?>\n",
      "<!-- Created with Inkscape (http://www.inkscape.org/) -->\n",
      "<svg id=\"svg2\" xmlns=\"http://www.w3.org/2000/svg\" height=\"32\" width=\"32\" version=\"1.0\"></svg>\n",
      "\n",
      "<?xml version=\"1.0\" encoding=\"UTF-8\" standalone=\"no\"?>\n",
      "<!-- Created with Inkscape (http://www.inkscape.org/) -->\n",
      "<svg id=\"svg2\" xmlns=\"http://www.w3.org/2000/svg\" height=\"32\" width=\"32\" version=\"1.0\"></svg>\n",
      "\n"
     ]
    },
    {
     "data": {
      "application/vnd.jupyter.widget-view+json": {
       "model_id": "7a6c1d340b64483c913c7ceed0d9d71e",
       "version_major": 2,
       "version_minor": 0
      },
      "text/plain": [
       "A Jupyter widget"
      ]
     },
     "metadata": {},
     "output_type": "display_data"
    }
   ],
   "source": [
    "string level;\n",
    "cout << \"Enter the level you want to solve! \\nYou choose the level \";\n",
    "cin >> level;\n",
    "    \n",
    "LABY(level)"
   ]
  },
  {
   "cell_type": "markdown",
   "metadata": {
    "slideshow": {
     "slide_type": "slide"
    }
   },
   "source": [
    "## Step 3\n",
    "\n",
    "Now it's time to see the magic begin!\n",
    "We just need to run the cell below, and basically your ant solve the maze!"
   ]
  },
  {
   "cell_type": "code",
   "execution_count": 3,
   "metadata": {
    "slideshow": {
     "slide_type": "fragment"
    }
   },
   "outputs": [
    {
     "ename": "Standard Exception",
     "evalue": "Votre programme a pris plus de 10000 étapes",
     "output_type": "error",
     "traceback": [
      "Standard Exception: Votre programme a pris plus de 10000 étapes"
     ]
    }
   ],
   "source": [
    "debut();\n",
    "Walk();"
   ]
  },
  {
   "cell_type": "code",
   "execution_count": null,
   "metadata": {},
   "outputs": [],
   "source": []
  }
 ],
 "metadata": {
  "celltoolbar": "Slideshow",
  "kernelspec": {
   "display_name": "C++17",
   "language": "C++17",
   "name": "xcpp17"
  },
  "language_info": {
   "codemirror_mode": "text/x-c++src",
   "file_extension": ".cpp",
   "mimetype": "text/x-c++src",
   "name": "c++",
   "version": "17"
  }
 },
 "nbformat": 4,
 "nbformat_minor": 4
}

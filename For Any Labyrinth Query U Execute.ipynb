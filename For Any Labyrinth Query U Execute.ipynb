{
 "cells": [
  {
   "cell_type": "markdown",
   "metadata": {
    "slideshow": {
     "slide_type": "slide"
    }
   },
   "source": [
    "# For Any Labyrinth Query U Execute\n",
    "\n",
    "**Author : Matthieu Robeyns**\n",
    "\n",
    "The following instructions explain how to solve any maze in the game Laby step by step.\n",
    "If you have any information about the game Laby, please refer to this [page](https://github.com/sgimenez/laby/issues/52) first.\n",
    "\n",
    "Feel free to ask any questions [here](https://gitlab.u-psud.fr/ter-graphupsud/labycpp_python.git) !"
   ]
  },
  {
   "cell_type": "markdown",
   "metadata": {
    "slideshow": {
     "slide_type": "skip"
    }
   },
   "source": [
    "### Introduction of our project:\n",
    "\n",
    "Before starting, you need to understand why do we do that and how it work.\n",
    "<br/> You are in a Jupyter Notebook, this platform unleash the power of execute any part of code you want by selected the cell and press Shift+Enter. But in this file, we shall you to execute cell step by step to avoid any error.\n",
    "<br/> The good point of Jupyter Notebook is, you can show the result of algorithm with dynamic's slides. To do that, you need to click on the button RISE Slideshow (to the left of a clock button). Once in the slide, you can scroll slide like any slider but some slides may get cell with code inside. And in RISE you can execute code without quit slideshow! You need to press Shift+Enter when you are in the cell and the output must appear (if it had one).\n",
    "<br/> After you run some cell you can run again the same cell while an error don't occur. \n",
    "#### If a error occur when you re-run a cell, you need to restart the Kernel!\n",
    "<br/> To do that, click on the Kernel button (left to the Widgets button) and press 'Restart & Clear Output' then accept your choice and usually you can run the algorithm again without any error.\n",
    "\n",
    "\n",
    "#### Notice : If you run RISE Slideshow, you do not see this part!\n",
    "\n",
    "First things you need to know is we are students in French University called [Université Paris-Saclay](https://www.universite-paris-saclay.fr/).\n",
    "<br/> This project is for 'Travaille d'Etude et de Recherche' (aka TER), aim to make us discover new horizon of program. This project promote team work, so I also works in graph representation in Jupyter Notebook with his colleague Damien Merret. Then for a better explanation of Jupyter and TER, please read [this](https://gitlab.u-psud.fr/ter-graphupsud/algorithme_des_plus-courts_chemins_en_cpp/blob/master/rapport.ipynb) first. \n",
    "<br/> Now I need to explain why did I choose this project for my research. First, Laby was the first program I use in my first degree. It was very effective to learn how use loops and language. So, I want to go further with Laby because when I finished the game, I was so sad cause interaction become limit when you know more about computer science.\n",
    "\n",
    "\n",
    "This code was to experiment an heuristic about maze.\n",
    "#### Heuristic: In maze, if you search an exit, keep the wall to your right when you walk.\n",
    "\n",
    "We use Laby's maze because Laby is very useful to resolve sample maze. Plus, Laby is a good first step to learn programming. Thus, even beginner can use our algorithm and see what append.\n",
    "\n",
    "Now, we need to talk more specially about the heuristic. Firstly, in Laby and maybe in lot of case we did not start with a wall to the left or to the right. So we need to find a wall. To do that, we just walk in front of us until we get the wall. Basically, we must see a wall, else if we just can find the exit.\n",
    "So the first step of our algorithm is to find a wall with the function 'SearchWall()'.\n",
    "\n",
    "Then we just use a function called 'WallRight()', which check if a wall is in right of the ant and if it is true, when the ant can just walk away.\n",
    "\n",
    "But that not enough, cause Laby have one disrupt, in fact the maze have web and rock. Web can not be cross by the ant until he destroy it with a rock. Still ant can only leave one rock at once.\n",
    "\n",
    "So we need to adjust our code for those problem.\n",
    "Hence, when we search a wall now and we see a web, we just bypass it (if it is possible), or we walk to the left now.\n",
    "The second problem appear is the exit can be hide by a web, so to solve this problem we just save each position of rock and web we discover and when we can use a rock to destroy a web we backtracking, with the function 'Backtracking(Rock,WallToTheLeft)', and we explore the new way discovery by the web.\n",
    "\n",
    "By this method, we can solve all maze create in Laby, and maybe all maze we can generate.\n",
    "All?? Unfortunately, that's not true.\n",
    "Imagine a maze with a orphan wall in center. If the ant has this wall for reference, he just walk around indefinitely.\n",
    "\n",
    "Luckily, we have a solution. This solution need to implement a new mechanics in Laby, but that a small cost.\n",
    "We need to create a new sprite which is the step of the ant. Thus, if the ant see his feet in the same direction he knows, he turn around and he decide to follow the wall in his left now.\n",
    "\n",
    "So, below you can train what we say with the code and each level of Laby.\n",
    "\n",
    "### What have you learn?\n",
    "\n",
    "The biggest mystery of all the time, how Laby works. This is very suprising to know Laby in Jupyter Notebook use lot of language to be very smooth. In fact, it use JavaScript and HTML to print the maze and the evolution of the ant. But for the action of the ant, we use C++. And to use this action in Jupyter Notebook... Unfortunately we need to use Python language, to be more specific about this part we need to talk about the Graph Project do by Damien Merret and Matthieu Robeyns.  \n",
    "\n",
    "Have fun, and a nice day!"
   ]
  },
  {
   "cell_type": "markdown",
   "metadata": {
    "slideshow": {
     "slide_type": "slide"
    }
   },
   "source": [
    "## Step 1\n",
    "\n",
    "Include [solve.hpp](https://gitlab.u-psud.fr/ter-graphupsud/labycpp_python/blob/master/solve.hpp).\n",
    "\n",
    "This header file contains everything necessary to solve and draw mazes"
   ]
  },
  {
   "cell_type": "code",
   "execution_count": 2,
   "metadata": {
    "slideshow": {
     "slide_type": "fragment"
    }
   },
   "outputs": [],
   "source": [
    "#include \"solve.hpp\"\n",
    "#include <iostream>\n",
    "#include <string>\n",
    "using namespace std;"
   ]
  },
  {
   "cell_type": "markdown",
   "metadata": {
    "slideshow": {
     "slide_type": "slide"
    }
   },
   "source": [
    "## Step 2\n",
    "\n",
    "Run the code below to choose the maze you wish to solve. Simply fill in the box any of the following:\n",
    "* 0\n",
    "* 1a\n",
    "* 1b\n",
    "* 1c\n",
    "* 2a\n",
    "* 2b\n",
    "* 2c\n",
    "* 3a\n",
    "* 3b\n",
    "* 4a\n",
    "* 4b\n",
    "* counting-the-rocks\n",
    "* this-is-crazy\n",
    "\n",
    "**Warning! If you want to try an another maze, you need to reboot the jupyter C++ kernel!**"
   ]
  },
  {
   "cell_type": "code",
   "execution_count": 3,
   "metadata": {
    "scrolled": false,
    "slideshow": {
     "slide_type": "fragment"
    }
   },
   "outputs": [
    {
     "name": "stdout",
     "output_type": "stream",
     "text": [
      "Enter the level you want to solve! \n",
      "You choose the level this-is-crazy\n"
     ]
    },
    {
     "data": {
      "application/vnd.jupyter.widget-view+json": {
       "model_id": "97ae5f2d244243aa8c88ab4500e98712",
       "version_major": 2,
       "version_minor": 0
      },
      "text/plain": [
       "A Jupyter widget"
      ]
     },
     "metadata": {},
     "output_type": "display_data"
    }
   ],
   "source": [
    "string level;\n",
    "cout << \"Enter the level you want to solve! \\nYou choose the level \";\n",
    "cin >> level;\n",
    "    \n",
    "LABY(level)"
   ]
  },
  {
   "cell_type": "markdown",
   "metadata": {
    "slideshow": {
     "slide_type": "slide"
    }
   },
   "source": [
    "## Step 3\n",
    "\n",
    "Now it's time to see the magic begin!\n",
    "We just need to run the cell below, and basically your ant solve the maze!"
   ]
  },
  {
   "cell_type": "code",
   "execution_count": 4,
   "metadata": {
    "slideshow": {
     "slide_type": "fragment"
    }
   },
   "outputs": [],
   "source": [
    "debut();\n",
    "Walk();"
   ]
  },
  {
   "cell_type": "code",
   "execution_count": null,
   "metadata": {},
   "outputs": [],
   "source": []
  }
 ],
 "metadata": {
  "celltoolbar": "Slideshow",
  "kernelspec": {
   "display_name": "C++17",
   "language": "C++17",
   "name": "xcpp17"
  },
  "language_info": {
   "codemirror_mode": "text/x-c++src",
   "file_extension": ".cpp",
   "mimetype": "text/x-c++src",
   "name": "c++",
   "version": "17"
  }
 },
 "nbformat": 4,
 "nbformat_minor": 4
}

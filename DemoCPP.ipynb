{
 "cells": [
  {
   "cell_type": "markdown",
   "metadata": {
    "slideshow": {
     "slide_type": "slide"
    }
   },
   "source": [
    "## Step 1\n",
    "\n",
    "Include [solve.hpp](https://gitlab.u-psud.fr/ter-graphupsud/labycpp_python).\n",
    "\n",
    "This header file contains everything necessary to solve and draw mazes"
   ]
  },
  {
   "cell_type": "code",
   "execution_count": null,
   "metadata": {
    "slideshow": {
     "slide_type": "fragment"
    }
   },
   "outputs": [],
   "source": [
    "#include \"solve.hpp\"\n",
    "#include <iostream>\n",
    "#include <string>\n",
    "#include \"xwidgets/xdropdown.hpp\"\n",
    "using namespace std;"
   ]
  },
  {
   "cell_type": "markdown",
   "metadata": {
    "slideshow": {
     "slide_type": "slide"
    }
   },
   "source": [
    "## Step 2\n",
    "\n",
    "Run the code below to choose the maze you wish to solve. Simply fill in the box any of the following:\n",
    "* 0\n",
    "* 1a\n",
    "* 1b\n",
    "* 1c\n",
    "* 2a\n",
    "* 2b\n",
    "* 2c\n",
    "* 3a\n",
    "* 3b\n",
    "* 4a\n",
    "* 4b\n",
    "* counting-the-rocks\n",
    "* this-is-crazy\n",
    "\n",
    "**Warning! If you want to try an another maze, you need to reboot the jupyter C++ kernel!**"
   ]
  },
  {
   "cell_type": "code",
   "execution_count": null,
   "metadata": {
    "slideshow": {
     "slide_type": "fragment"
    }
   },
   "outputs": [],
   "source": [
    "xw::dropdown level(std::vector<std::string>({\"0\",\"1a\",\"1b\",\"1c\",\"2a\",\"2b\",\"2c\",\"3a\",\"3b\",\"4a\",\"4b\",\"counting-the-rocks\", \"this-is-crazy\"}), \"0\");\n",
    "level"
   ]
  },
  {
   "cell_type": "code",
   "execution_count": null,
   "metadata": {
    "slideshow": {
     "slide_type": "fragment"
    }
   },
   "outputs": [],
   "source": [
    "level.value()"
   ]
  },
  {
   "cell_type": "code",
   "execution_count": null,
   "metadata": {
    "slideshow": {
     "slide_type": "fragment"
    }
   },
   "outputs": [],
   "source": [
    "LABY(level.value())"
   ]
  },
  {
   "cell_type": "markdown",
   "metadata": {
    "slideshow": {
     "slide_type": "slide"
    }
   },
   "source": [
    "## Step 3\n",
    "\n",
    "Now it's time to see the magic begin!\n",
    "We just need to run the cell below, and basically your ant solve the maze!"
   ]
  },
  {
   "cell_type": "code",
   "execution_count": null,
   "metadata": {
    "slideshow": {
     "slide_type": "fragment"
    }
   },
   "outputs": [],
   "source": [
    "debut();\n",
    "Walk();"
   ]
  },
  {
   "cell_type": "code",
   "execution_count": null,
   "metadata": {},
   "outputs": [],
   "source": []
  }
 ],
 "metadata": {
  "celltoolbar": "Slideshow",
  "kernelspec": {
   "display_name": "C++17",
   "language": "C++17",
   "name": "xcpp17"
  },
  "language_info": {
   "codemirror_mode": "text/x-c++src",
   "file_extension": ".cpp",
   "mimetype": "text/x-c++src",
   "name": "c++",
   "version": "17"
  }
 },
 "nbformat": 4,
 "nbformat_minor": 4
}

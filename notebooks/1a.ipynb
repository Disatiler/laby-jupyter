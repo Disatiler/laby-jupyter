{
 "cells": [
  {
   "cell_type": "markdown",
   "metadata": {},
   "source": [
    "# Laby, niveau 1a: à vous de jouer!\n",
    "Exécutez la cellule suivante pour faire apparaîtree le premier défi. On commence doucement, sans obstacles. À vous de compléter le programme dans la cellule du dessous pour diriger la fourmi vers la sortie. Revenez au niveau précédent pour avoir un exemple, et consultez la documentation.\n",
    "\n",
    "[Niveau précédent](0.ipynb), [Liste des niveaux](./), [Niveau suivant](1b.ipynb)"
   ]
  },
  {
   "cell_type": "code",
   "execution_count": 1,
   "metadata": {},
   "outputs": [
    {
     "data": {
      "application/vnd.jupyter.widget-view+json": {
       "model_id": "a46913c8234945fd8ff2f0ce2a00ce77",
       "version_major": 2,
       "version_minor": 0
      },
      "text/plain": [
       "A Jupyter widget"
      ]
     },
     "metadata": {},
     "output_type": "display_data"
    }
   ],
   "source": [
    "#include \"../laby-global-fr.hpp\"\n",
    "LABY(\"1a\")"
   ]
  },
  {
   "cell_type": "code",
   "execution_count": null,
   "metadata": {},
   "outputs": [],
   "source": [
    "debut();\n",
    "avance();\n",
    "droite();"
   ]
  }
 ],
 "metadata": {
  "kernelspec": {
   "display_name": "C++17",
   "language": "C++17",
   "name": "xcpp17"
  },
  "language_info": {
   "codemirror_mode": "text/x-c++src",
   "file_extension": ".cpp",
   "mimetype": "text/x-c++src",
   "name": "c++",
   "version": "-std=c++17"
  }
 },
 "nbformat": 4,
 "nbformat_minor": 2
}

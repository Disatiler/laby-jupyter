{
 "cells": [
  {
   "cell_type": "markdown",
   "metadata": {},
   "source": [
    "# Laby, niveau 2c: Zig Zag\n",
    "\n",
    "Cinq longues distances à parcourir! On ne va tout de même pas recopier cinq fois la même boucle?\n",
    "\n",
    "[Niveau précédent](2b.ipynb), [Liste des niveaux](./), [Niveau suivant](3a.ipynb), [Documentation](0b.ipynb#Documentation)"
   ]
  },
  {
   "cell_type": "code",
   "execution_count": 5,
   "metadata": {},
   "outputs": [
    {
     "data": {
      "application/vnd.jupyter.widget-view+json": {
       "model_id": "5d08f68e7d974123a56503ddfb214512",
       "version_major": 2,
       "version_minor": 0
      },
      "text/plain": [
       "A Jupyter widget"
      ]
     },
     "metadata": {},
     "output_type": "display_data"
    }
   ],
   "source": [
    "#include \"../laby-global-fr.hpp\"\n",
    "LABY(\"2c\")"
   ]
  },
  {
   "cell_type": "markdown",
   "metadata": {},
   "source": [
    "Complétez la *procédure* suivante (une nouvelle commande) pour qu'elle fasse avancer la fourmi le plus loin possible en ligne droite:"
   ]
  },
  {
   "cell_type": "code",
   "execution_count": 6,
   "metadata": {},
   "outputs": [],
   "source": [
    "void ligne_droite() {\n",
    "    /// BEGIN SOLUTION\n",
    "    while ( regarde() == Vide ) {\n",
    "        avance();\n",
    "    }\n",
    "    /// END SOLUTION\n",
    "}"
   ]
  },
  {
   "cell_type": "markdown",
   "metadata": {},
   "source": [
    "Note: en C++ il n'est pas possible de redéfinir une procédure; si vous souhaitez la changer, vous devrez *redémarer le noyau* (menu `Noyau` -> `Redémarer`)."
   ]
  },
  {
   "cell_type": "markdown",
   "metadata": {},
   "source": [
    "Essayez le programme suivant, puis complétez le pour faire sortir la fourmi:"
   ]
  },
  {
   "cell_type": "code",
   "execution_count": 7,
   "metadata": {},
   "outputs": [],
   "source": [
    "debut();\n",
    "ligne_droite();\n",
    "gauche();\n",
    "/// BEGIN SOLUTION\n",
    "ligne_droite();\n",
    "gauche();\n",
    "ligne_droite();\n",
    "droite();\n",
    "ligne_droite();\n",
    "droite();\n",
    "ligne_droite();\n",
    "/// END SOLUTION\n",
    "ouvre();"
   ]
  },
  {
   "cell_type": "code",
   "execution_count": null,
   "metadata": {},
   "outputs": [],
   "source": []
  }
 ],
 "metadata": {
  "celltoolbar": "Create Assignment",
  "kernelspec": {
   "display_name": "C++17",
   "language": "C++17",
   "name": "xcpp17"
  },
  "language_info": {
   "codemirror_mode": "text/x-c++src",
   "file_extension": ".cpp",
   "mimetype": "text/x-c++src",
   "name": "c++",
   "version": "-std=c++17"
  }
 },
 "nbformat": 4,
 "nbformat_minor": 2
}

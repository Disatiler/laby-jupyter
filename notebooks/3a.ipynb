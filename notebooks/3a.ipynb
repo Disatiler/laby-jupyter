{
 "cells": [
  {
   "cell_type": "markdown",
   "metadata": {},
   "source": [
    "# Laby, niveau 3a: Ahhh des toiles!\n",
    "\n",
    "[Niveau précédent](2c.ipynb), [Liste des niveaux](./), [Niveau suivant](3b.ipynb), [Documentation](0b.ipynb#Documentation)"
   ]
  },
  {
   "cell_type": "code",
   "execution_count": 1,
   "metadata": {},
   "outputs": [
    {
     "data": {
      "application/vnd.jupyter.widget-view+json": {
       "model_id": "8472ea4807704bd98accc8a47fb639a4",
       "version_major": 2,
       "version_minor": 0
      },
      "text/plain": [
       "A Jupyter widget"
      ]
     },
     "metadata": {},
     "output_type": "display_data"
    }
   ],
   "source": [
    "#include \"../laby-global-fr.hpp\"\n",
    "LABY(\"3a\")"
   ]
  },
  {
   "cell_type": "code",
   "execution_count": null,
   "metadata": {},
   "outputs": [],
   "source": [
    "debut();\n",
    "/// BEGIN SOLUTION\n",
    "droite();\n",
    "avance();\n",
    "gauche();\n",
    "\n",
    "if ( regarde() == Toile ) {\n",
    "  gauche();\n",
    "  avance();\n",
    "  avance();\n",
    "  droite();\n",
    "  avance();\n",
    "  avance();\n",
    "  droite();\n",
    "  avance();\n",
    "  gauche();\n",
    "} else {\n",
    "  avance();\n",
    "  avance();\n",
    "  gauche();\n",
    "  avance();\n",
    "  droite();\n",
    "}\n",
    "/// END SOLUTION\n",
    "ouvre();\n"
   ]
  }
 ],
 "metadata": {
  "kernelspec": {
   "display_name": "C++17",
   "language": "C++17",
   "name": "xcpp17"
  },
  "language_info": {
   "codemirror_mode": "text/x-c++src",
   "file_extension": ".cpp",
   "mimetype": "text/x-c++src",
   "name": "c++",
   "version": "-std=c++17"
  }
 },
 "nbformat": 4,
 "nbformat_minor": 2
}

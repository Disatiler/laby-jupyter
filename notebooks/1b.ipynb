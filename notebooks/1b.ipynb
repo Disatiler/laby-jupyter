{
 "cells": [
  {
   "cell_type": "markdown",
   "metadata": {},
   "source": [
    "# Laby, niveau 1b: Oh le caillou !\n",
    "\n",
    "Exécutez la cellule suivante pour faire apparaîtree le second défi. Cette fois il y a un obstacle. Un caillou te barre la route. Il faut utiliser les instructions qui permettent de prendre et de poser les cailloux. Revenez au niveau 0 pour avoir un exemple, et consultez la documentation.\n",
    "\n",
    "[Niveau précédent](1a.ipynb), [Liste des niveaux](./), [Niveau suivant](1c.ipynb)"
   ]
  },
  {
   "cell_type": "code",
   "execution_count": 1,
   "metadata": {},
   "outputs": [
    {
     "data": {
      "application/vnd.jupyter.widget-view+json": {
       "model_id": "2b2fb635d9f94efcaf1548cfb523e4a1",
       "version_major": 2,
       "version_minor": 0
      },
      "text/plain": [
       "A Jupyter widget"
      ]
     },
     "metadata": {},
     "output_type": "display_data"
    }
   ],
   "source": [
    "#include \"../laby-global-fr.hpp\"\n",
    "LABY(\"1b\")"
   ]
  },
  {
   "cell_type": "code",
   "execution_count": 6,
   "metadata": {},
   "outputs": [],
   "source": [
    "debut();"
   ]
  }
 ],
 "metadata": {
  "kernelspec": {
   "display_name": "C++17",
   "language": "C++17",
   "name": "xcpp17"
  },
  "language_info": {
   "codemirror_mode": "text/x-c++src",
   "file_extension": ".cpp",
   "mimetype": "text/x-c++src",
   "name": "c++",
   "version": "-std=c++17"
  }
 },
 "nbformat": 4,
 "nbformat_minor": 2
}

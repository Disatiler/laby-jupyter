{
 "cells": [
  {
   "cell_type": "markdown",
   "metadata": {},
   "source": [
    "# Laby, niveau 0: démonstration\n",
    "1. Exécutez la cellule suivante pour faire apparaître le labyrinthe.\n",
    "\n",
    "Ce labyrinthe sert de démonstration. Le programme dans la cellule encore en dessous permet à la fourmi d'en sortir, en lui donnant une suite d'ordres simples: avancer, tourner à droite, etc. La fourmi va s'amuser un peu avec le caillou et éviter la toile d'araignée.\n",
    "\n",
    "2. Exécutez le programme.\n",
    "\n",
    "3. Utilisez les boutons de commande ci-dessus pour suivre l'exécution du programme pas-à-pas, en marche arrière, etc pour bien comprendre ce que fait la fourmi.\n",
    "\n",
    "5. Passez au [niveau suivant](1a.ipynb)."
   ]
  },
  {
   "cell_type": "code",
   "execution_count": 1,
   "metadata": {},
   "outputs": [
    {
     "data": {
      "application/vnd.jupyter.widget-view+json": {
       "model_id": "19e480a9f55a4e909b29a61bc0481eb3",
       "version_major": 2,
       "version_minor": 0
      },
      "text/plain": [
       "A Jupyter widget"
      ]
     },
     "metadata": {},
     "output_type": "display_data"
    }
   ],
   "source": [
    "#include \"../laby-global-fr.hpp\"\n",
    "LABY(\"0\")"
   ]
  },
  {
   "cell_type": "code",
   "execution_count": 10,
   "metadata": {},
   "outputs": [],
   "source": [
    "debut();\n",
    "droite();\n",
    "avance();\n",
    "prend();\n",
    "gauche();\n",
    "avance();\n",
    "pose();\n",
    "droite();\n",
    "avance();\n",
    "gauche();\n",
    "avance();\n",
    "avance();\n",
    "droite();\n",
    "ouvre();"
   ]
  }
 ],
 "metadata": {
  "kernelspec": {
   "display_name": "C++17",
   "language": "C++17",
   "name": "xcpp17"
  },
  "language_info": {
   "codemirror_mode": "text/x-c++src",
   "file_extension": ".cpp",
   "mimetype": "text/x-c++src",
   "name": "c++",
   "version": "-std=c++17"
  }
 },
 "nbformat": 4,
 "nbformat_minor": 2
}
